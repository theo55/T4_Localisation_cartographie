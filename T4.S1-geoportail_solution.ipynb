{
 "cells": [
  {
   "cell_type": "markdown",
   "metadata": {},
   "source": [
    "<h1> T4.S1 - Cartes Numériques : GeoPortail </h1> <br>\n",
    "<h3> <u> Capacité </u> : Identifier les différentes couches d'information de GeoPortail pour extraire différents types de données </h3>"
   ]
  },
  {
   "cell_type": "markdown",
   "metadata": {},
   "source": [
    "<img src=\"img/GeoPortail.png\" />"
   ]
  },
  {
   "cell_type": "markdown",
   "metadata": {},
   "source": [
    "Aller sur le site de GeoPortail : https://www.geoportail.gouv.fr/ <br> <br>\n",
    "Rechercher \"Toulon\" et à Toulon trouver le <i> <b> Lycée Rouvière </b> </i>."
   ]
  },
  {
   "cell_type": "markdown",
   "metadata": {},
   "source": [
    "Chercher dans les menus et placer un point au centre de la pinède du lycée : <br> <br> <img src=\"img/lycee_rouviere_coord_bis.png\" /> "
   ]
  },
  {
   "cell_type": "markdown",
   "metadata": {},
   "source": [
    "<b> 1. relever les coordonnées GPS : </b>"
   ]
  },
  {
   "cell_type": "raw",
   "metadata": {},
   "source": [
    "latitude : 43,1256°"
   ]
  },
  {
   "cell_type": "raw",
   "metadata": {},
   "source": [
    "longitude :  5,9782 °"
   ]
  },
  {
   "cell_type": "markdown",
   "metadata": {},
   "source": [
    "<br> <br> <b> 2. </b> En cliquant sur \"+ de données\" à droite de l'image : <img src = \"img/plus_de_donnees_couches.png\"  width=\"200\" /> <br> il est possible d'ajouter des couches d'informations à la carte.\n",
    " Ajouter la $\\textbf{carte littorale }$. <br>\n",
    "Que contient cette carte : https://www.geoportail.gouv.fr/actualites/donnees-mer-et-littoral-sur-le-geoportail ? <br><br>\n",
    "<b> <u> Réponse : </u> </b>"
   ]
  },
  {
   "cell_type": "raw",
   "metadata": {},
   "source": [
    "La carte littorale est l’assemblage des cartes marines du SHOM (Service hydrographique et océanographique de la Marine) et des cartes terrestres de l’IGN."
   ]
  },
  {
   "cell_type": "markdown",
   "metadata": {},
   "source": [
    "<br>\n",
    "$ \\textbf{Trois sympboles violets} $ apparaissent sur la carte autour du lycée : <img src=\"img/IGN_rouviere_num.png\" /> <br>\n",
    "<b> 3. Que signifient ces symboles ? </b> <a href=\"http://professionnels.ign.fr/doc/DC_SCAN25_3-0.pdf\" target=\"_blank\"> http://professionnels.ign.fr/doc/DC_SCAN25_3-0.pdf</a> . ou <a href=\"img/DC_SCAN25_3-0.pdf\" target=\"_blank\"> ici </a>. <br> <br>\n",
    "<b> <u> Réponse : </u> </b>"
   ]
  },
  {
   "cell_type": "raw",
   "metadata": {},
   "source": [
    "1 : Tennis"
   ]
  },
  {
   "cell_type": "raw",
   "metadata": {},
   "source": [
    "2 : Piscine"
   ]
  },
  {
   "cell_type": "raw",
   "metadata": {},
   "source": [
    "3 : Poste de Police"
   ]
  },
  {
   "cell_type": "markdown",
   "metadata": {},
   "source": [
    "<br> <br> <b> 4. </b> Bien qu'accessible en ligne cette carte est <b> relativement ancienne, </b> Donc pas à jour. Qu'est ce qui nous permet de l'affirmer http://www.ch-toulon.fr/nous-connaitre/histoire-611.html ? Pourriez-vous lui donner un âge ? considérez-vous qu'elle est fiable ? <br> <br>\n",
    "<b> <u> Réponse : </u> </b>"
   ]
  },
  {
   "cell_type": "raw",
   "metadata": {},
   "source": [
    "L'hôpital Ste Musse n'est pas dessiné sur la carte. \n",
    "Il a ouvert en 2011 et sa construction a débuté quelques année auparavant.\n",
    "Il est vraissemblable que la carte date d'avant 2009, c'est à dire qu'elle a plus de 10 ans."
   ]
  },
  {
   "cell_type": "markdown",
   "metadata": {},
   "source": [
    "<br> <br> <b> 5. </b> Dans la zone ci-dessous qui s'étend de <b> <i> Bandol </i> </b> à <b> <i> Bormes les Mimosas </i> </b>, il existe $\\textbf{ différentes catégories de zones naturelles protégées.} $ <img src=\"img/zone_protegee.png\" /> <br>\n",
    "Quelles sont ces zones ? Comment sont-elles classées ? Ajouter les filtres adaptés. Faites des copies d'écran qui mettent en évidence $\\textbf{les zones concernées} $ et $\\textbf{la catégorie} $ dans laquelle elles se classent. Pensez à ajouter votre nom aux images. <br> <br>\n",
    "Lister les catagories dans lesquelles vous avez trouvé des zones. <br>\n",
    "<b> <u> Réponse : </u> </b>"
   ]
  },
  {
   "cell_type": "markdown",
   "metadata": {},
   "source": [
    "<u> 5.1) Réserves intégrales de parcs nationnaux : Port-Cros </u> <br>\n",
    "<img src=\"imgsol/1_zone_protegee_reserve_parc_nationaux.png\" width=\"750\"/> <br>\n",
    "<u> 5.2)Zone humide d'importance internationale (RAMSAR) : Salin d'Hyères / Etangs de Villepey (près de Bormes) </u> <br>\n",
    "<img src=\"imgsol/2_zone_protegee_ramsar.png\" width=\"750\"/> <br>\n",
    "<u> 5.3) Zones naturelles d'intérêt écologique faunistique et floristique I et II : nombreuses zones  </u><br>\n",
    "<img src=\"imgsol/3_zone_protegee_Zones_naturelles_interet_ecologique.png\" width=\"750\"/> <br>\n",
    "<u> 5.4) Zone d'importantce pour la conservation des oiseaux (ZICO) : plaine dea Maures/ Iles d'Hyères / Salins </u> <br>\n",
    "<img src=\"imgsol/4-zone_protegee_ZICO.png\" width=\"750\"/> <br>\n",
    "<u> 5.5) Sites Natura 2000 : nombreux sites  </u><br>\n",
    "<img src=\"imgsol/5_zone_protegee_Natura_2000.png\" width=\"750\"/> <br>\n",
    "<u> 5.6) Réserve naturelle nationale : plaine des maures </u> <br>\n",
    "<img src=\"imgsol/6_zone_protegee_reserve_biologique.png\" width=\"750\"/> <br>\n",
    "<u> 5.7) réserve biologique : réserve de la sainte baume / réserve de Valbelle / réserve des Maures / Réserve de Perthus </u> <br>\n",
    "<img src=\"imgsol/7_zone_protegee_reserve_naturelle_nationale.png\" width=\"750\"/> <br>\n",
    "<u> 5.8) Parc naturels régionaux : Saint Baume </u> <br>\n",
    "<img src=\"imgsol/8_zone_protegee_parc_naturels_regionaux.png\" width=\"750\"/> <br>\n",
    "<u> 5.9) Parcs nationaux : </u>  <br>\n",
    "<img src=\"imgsol/9_zone_protegee_parc_nationaux.png\" width=\"750\"/> <br>\n",
    "<u> 5.10) Parcelles protégées conservatoire du littoral : </u>  <br>\n",
    "<img src=\"imgsol/10_zone_protegee_conservatoire_littoral.png\" width=\"750\"/> <br>\n",
    "<u> 5.11) Protection de biotope : </u> <br>\n",
    "<img src=\"imgsol/11_zone_protegee_protection_de_biotope.png\" width=\"750\"/> <br>"
   ]
  },
  {
   "cell_type": "markdown",
   "metadata": {},
   "source": [
    "<br> <br> <b> 6. </b> Afficher la catégorie des $\\textbf{communes} $ de la région toulonnaise : <img src=\"img/communes.png\" /> <br>\n",
    "Extraire la surface des communes autour de Toulon.<br><br>\n",
    "<b> <u> Réponse : </u> </b>"
   ]
  },
  {
   "cell_type": "raw",
   "metadata": {},
   "source": [
    "Toulon : 4284 ha"
   ]
  },
  {
   "cell_type": "raw",
   "metadata": {},
   "source": [
    "Ollioules : 1989 ha"
   ]
  },
  {
   "cell_type": "raw",
   "metadata": {},
   "source": [
    "La Seyne sur Mer : 2217 ha"
   ]
  },
  {
   "cell_type": "raw",
   "metadata": {},
   "source": [
    "La Valette : 1550 ha"
   ]
  },
  {
   "cell_type": "raw",
   "metadata": {},
   "source": [
    "La Garde : 1554 ha"
   ]
  },
  {
   "cell_type": "raw",
   "metadata": {},
   "source": [
    "Six-Fours : 2658 ha"
   ]
  },
  {
   "cell_type": "raw",
   "metadata": {},
   "source": [
    "le Pradet : 997 ha"
   ]
  },
  {
   "cell_type": "raw",
   "metadata": {},
   "source": [
    "Carqueiranne : 1448 ha"
   ]
  },
  {
   "cell_type": "raw",
   "metadata": {},
   "source": [
    "Le Revest : 2407 ha"
   ]
  },
  {
   "cell_type": "raw",
   "metadata": {},
   "source": [
    "Hyères : 13 238 ha"
   ]
  },
  {
   "cell_type": "raw",
   "metadata": {},
   "source": [
    "La Crau : 3787 ha"
   ]
  },
  {
   "cell_type": "markdown",
   "metadata": {},
   "source": [
    "<b> <u> Conclusion </u> </b>: Classer par $\\textbf{ordre décroissant} $ les $\\textbf{trois communes}$ de la liste qui ont la $\\textbf{surface la plus grande }$ <br><br>\n",
    "<b> <u> Réponse : </u> </b>\n"
   ]
  },
  {
   "cell_type": "raw",
   "metadata": {},
   "source": [
    "Hyères > Toulon > La Crau"
   ]
  },
  {
   "cell_type": "markdown",
   "metadata": {},
   "source": [
    "<br> <br> <b> 7. </b> Afficher la carte de France des $\\textbf{régions} $ : <img src=\"img/regions.png\" /> <br>\n",
    "Classer par <b> <u> ordre décroissant </u> </b> les $\\textbf{quatre plus grandes régions} $ de France. Relever leur nom, leur superficie et le nom de leur préfecture. <br><br>\n",
    "<b> <u> Réponse : </u> </b>"
   ]
  },
  {
   "cell_type": "raw",
   "metadata": {},
   "source": [
    "1 : Nouvelle-Aquitaine : 84 060 km2 / Bourdeaux"
   ]
  },
  {
   "cell_type": "raw",
   "metadata": {},
   "source": [
    "2 : Occitanie : 72 723 km2 / Toulouse"
   ]
  },
  {
   "cell_type": "raw",
   "metadata": {},
   "source": [
    "3 : Auvergne-Rhône-Alpes : 69 759 km2 / Lyon "
   ]
  },
  {
   "cell_type": "raw",
   "metadata": {},
   "source": [
    "4 : Grand-Est : 57 430 km2 / Strasbourg"
   ]
  },
  {
   "cell_type": "markdown",
   "metadata": {},
   "source": [
    "<br> <br> <b> 8. </b> J'habite à  Toulon, je voudrais savoir sur quelle(s) commune(s) je peux aller, au $\\textbf{plus proche} $, pour faire voler mon $\\textbf{drône de loisirs} $. <br>\n",
    "Quels sont les  $\\textbf{couches} $ que je dois afficher sur la carte pour avoir cette information ? Faire une copie d'écran de l'image de la carte avec les couches. <br><br>\n",
    "<b> <u> Réponse : </u> </b>"
   ]
  },
  {
   "cell_type": "raw",
   "metadata": {},
   "source": [
    "Restrictions pour drônes de loisirs\n",
    "Communes"
   ]
  },
  {
   "cell_type": "markdown",
   "metadata": {},
   "source": [
    "<img src =\"imgsol/communes_et_restrictions_drones_loisirs.png\" />"
   ]
  },
  {
   "cell_type": "markdown",
   "metadata": {},
   "source": [
    "<br> <hr>\n",
    "<font color='red'> Enregistrez ce travail sous le nom : T5.S1_geoportail_<i>votre_nom</i>.ipynb et déposez le là où on vous le dira </font>\n",
    "\n",
    "### Pour enregistrer:\n",
    "\n",
    "1. File\n",
    "2. Download As\n",
    "3. Notebook (ipynb)"
   ]
  }
 ],
 "metadata": {
  "kernelspec": {
   "display_name": "Python 3 (ipykernel)",
   "language": "python",
   "name": "python3"
  },
  "language_info": {
   "codemirror_mode": {
    "name": "ipython",
    "version": 3
   },
   "file_extension": ".py",
   "mimetype": "text/x-python",
   "name": "python",
   "nbconvert_exporter": "python",
   "pygments_lexer": "ipython3",
   "version": "3.10.6"
  }
 },
 "nbformat": 4,
 "nbformat_minor": 2
}
